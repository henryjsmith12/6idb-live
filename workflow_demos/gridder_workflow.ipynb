{
 "cells": [
  {
   "cell_type": "code",
   "execution_count": null,
   "metadata": {},
   "outputs": [],
   "source": []
  }
 ],
 "metadata": {
  "kernelspec": {
   "display_name": "Python 3.7.13 ('6idb-live')",
   "language": "python",
   "name": "python3"
  },
  "language_info": {
   "name": "python",
   "version": "3.7.13"
  },
  "orig_nbformat": 4,
  "vscode": {
   "interpreter": {
    "hash": "520a3f8aaebf9b5f8b1433e7104d0814e769c812a0bc614b38e35f278ce4ed50"
   }
  }
 },
 "nbformat": 4,
 "nbformat_minor": 2
}
