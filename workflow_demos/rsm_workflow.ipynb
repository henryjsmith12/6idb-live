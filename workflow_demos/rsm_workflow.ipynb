{
 "cells": [
  {
   "cell_type": "markdown",
   "metadata": {},
   "source": [
    "# Creating a Single-Point Reciprocal Space Map with xrayutilities"
   ]
  },
  {
   "cell_type": "code",
   "execution_count": 3,
   "metadata": {},
   "outputs": [],
   "source": [
    "import matplotlib.pyplot as plt\n",
    "import xrayutilities as xu"
   ]
  },
  {
   "cell_type": "code",
   "execution_count": 4,
   "metadata": {},
   "outputs": [],
   "source": [
    "# Non-angle values currently taken from spec\n",
    "energy = 11215\n",
    "ub_matrix = [\n",
    "    [-1.557334998, 0.08673232227, -0.07365031356],\n",
    "    [-0.1136370296, -1.134140697, 1.067263165],\n",
    "    [0.005787047496, 1.069785746, 1.137437527]\n",
    "]"
   ]
  },
  {
   "cell_type": "code",
   "execution_count": 5,
   "metadata": {},
   "outputs": [],
   "source": [
    "# Info taken from instrument config XML in current setup\n",
    "sample_circle_dir = ['x+', 'z-', 'y+', 'z-']\n",
    "detector_circle_dir = ['x+', 'z-']\n",
    "primary_beam_dir = [0, 1, 0]\n",
    "\n",
    "# Create goniometer geometry\n",
    "q_conversion = xu.experiment.QConversion(\n",
    "    sampleAxis=sample_circle_dir, \n",
    "    detectorAxis=detector_circle_dir, \n",
    "    r_i=primary_beam_dir\n",
    ")"
   ]
  },
  {
   "cell_type": "code",
   "execution_count": 6,
   "metadata": {},
   "outputs": [],
   "source": [
    "# Info taken from instrument config XML in current setup\n",
    "inplane_reference_dir = [0, 1, 0]\n",
    "sample_normal_dir = [0, 0, 1]\n",
    "\n",
    "# Create experiment (HXRD) object\n",
    "hxrd = xu.HXRD(\n",
    "    idir=inplane_reference_dir, \n",
    "    ndir=sample_normal_dir, \n",
    "    en=energy, \n",
    "    qconv=q_conversion\n",
    ")"
   ]
  },
  {
   "cell_type": "code",
   "execution_count": 7,
   "metadata": {},
   "outputs": [],
   "source": [
    "# Info taken from detector config XML in current setup\n",
    "pixel_dir_1 = \"z-\"\n",
    "pixel_dir_2 = \"x-\"\n",
    "center_ch_pixel_1 = 252\n",
    "center_ch_pixel_2 = 107\n",
    "n_pixels_ch_1 = 487\n",
    "n_pixels_ch_2 = 195\n",
    "pixel_width_1 = 0.172\n",
    "pixel_width_2 = 0.172\n",
    "distance = 900.644\n",
    "roi = [0, n_pixels_ch_1, 0, n_pixels_ch_2]\n",
    "\n",
    "# Initialize detector area\n",
    "hxrd.Ang2Q.init_area(\n",
    "    detectorDir1=pixel_dir_1, \n",
    "    detectorDir2=pixel_dir_2, \n",
    "    cch1=center_ch_pixel_1, \n",
    "    cch2=center_ch_pixel_2,\n",
    "    Nch1=n_pixels_ch_1, \n",
    "    Nch2=n_pixels_ch_2, \n",
    "    pwidth1=pixel_width_1, \n",
    "    pwidth2=pixel_width_2,\n",
    "    distance=distance, \n",
    "    roi=roi\n",
    ")"
   ]
  },
  {
   "cell_type": "code",
   "execution_count": 8,
   "metadata": {},
   "outputs": [],
   "source": [
    "# Angle names for RSM calculations at all points\n",
    "# Info taken from instrument config XML in current setup\n",
    "sample_circle_names = ['Mu', 'Eta', 'Chi', 'Phi']\n",
    "detector_circle_names = ['Nu', 'Delta']\n",
    "circle_names = sample_circle_names + detector_circle_names\n",
    "\n",
    "# Angle values for single-point RSM\n",
    "angles = [0, 21.108375, 89.78725, 4.159, 0, 45.727875]"
   ]
  },
  {
   "cell_type": "code",
   "execution_count": 9,
   "metadata": {},
   "outputs": [],
   "source": [
    "# Create reciprocal space map\n",
    "qx, qy, qz = hxrd.Ang2Q.area(\n",
    "    *angles, \n",
    "    UB=ub_matrix\n",
    ")"
   ]
  },
  {
   "cell_type": "code",
   "execution_count": 10,
   "metadata": {},
   "outputs": [
    {
     "data": {
      "image/png": "[encoded data removed]",
      "text/plain": [
       "<Figure size 936x216 with 6 Axes>"
      ]
     },
     "metadata": {
      "needs_background": "light"
     },
     "output_type": "display_data"
    }
   ],
   "source": [
    "# Plotting HKL values for RSM\n",
    "fig, (ax1, ax2, ax3) = plt.subplots(figsize=(13, 3), ncols=3)\n",
    "ax1.set_title(\"H\")\n",
    "ax2.set_title(\"K\")\n",
    "ax3.set_title(\"L\")\n",
    "qx_plot = ax1.imshow(qx.T)\n",
    "qy_plot = ax2.imshow(qy.T)\n",
    "qz_plot = ax3.imshow(qz.T)\n",
    "fig.colorbar(qx_plot, ax=ax1)\n",
    "fig.colorbar(qy_plot, ax=ax2)\n",
    "fig.colorbar(qz_plot, ax=ax3)\n",
    "\n",
    "plt.show()"
   ]
  },
  {
   "cell_type": "code",
   "execution_count": null,
   "metadata": {},
   "outputs": [],
   "source": []
  }
 ],
 "metadata": {
  "kernelspec": {
   "display_name": "Python 3.7.13 ('6idb-live')",
   "language": "python",
   "name": "python3"
  },
  "language_info": {
   "codemirror_mode": {
    "name": "ipython",
    "version": 3
   },
   "file_extension": ".py",
   "mimetype": "text/x-python",
   "name": "python",
   "nbconvert_exporter": "python",
   "pygments_lexer": "ipython3",
   "version": "3.7.13"
  },
  "orig_nbformat": 4,
  "vscode": {
   "interpreter": {
    "hash": "520a3f8aaebf9b5f8b1433e7104d0814e769c812a0bc614b38e35f278ce4ed50"
   }
  }
 },
 "nbformat": 4,
 "nbformat_minor": 2
}
